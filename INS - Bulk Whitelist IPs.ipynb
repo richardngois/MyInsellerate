{
 "cells": [
  {
   "cell_type": "markdown",
   "metadata": {},
   "source": [
    "<b>1. Start by running the cell below to import the necessary Python packages</b>"
   ]
  },
  {
   "cell_type": "code",
   "execution_count": 1,
   "metadata": {},
   "outputs": [
    {
     "name": "stderr",
     "output_type": "stream",
     "text": [
      "C:\\Users\\RichardNgo\\anaconda3\\lib\\site-packages\\requests\\__init__.py:89: RequestsDependencyWarning: urllib3 (1.26.7) or chardet (3.0.4) doesn't match a supported version!\n",
      "  warnings.warn(\"urllib3 ({}) or chardet ({}) doesn't match a supported \"\n"
     ]
    }
   ],
   "source": [
    "import sys\n",
    "import time\n",
    "import requests\n",
    "import json\n",
    "import pandas as pd\n",
    "import ipywidgets as widgets\n",
    "import Insellerate as ins"
   ]
  },
  {
   "cell_type": "markdown",
   "metadata": {},
   "source": [
    "<b>2. Run the cell below to select the org</b>"
   ]
  },
  {
   "cell_type": "code",
   "execution_count": 2,
   "metadata": {},
   "outputs": [
    {
     "data": {
      "application/vnd.jupyter.widget-view+json": {
       "model_id": "c00db875e9c24b849849cbf6aacb4885",
       "version_major": 2,
       "version_minor": 0
      },
      "text/plain": [
       "Combobox(value='', description='Select organization:', ensure_option=True, layout=Layout(height='30px', width=…"
      ]
     },
     "metadata": {},
     "output_type": "display_data"
    }
   ],
   "source": [
    "orgs = ins.get_orgs()\n",
    "select_org = ins.create_dropdown('Select organization:', list(orgs.Name))\n",
    "select_org"
   ]
  },
  {
   "cell_type": "markdown",
   "metadata": {},
   "source": [
    "<b>3. Run the cell below to verify that the correct org (id) was selected</b>"
   ]
  },
  {
   "cell_type": "code",
   "execution_count": 7,
   "metadata": {},
   "outputs": [
    {
     "name": "stdout",
     "output_type": "stream",
     "text": [
      "Organization:  Prod1-RileyC , OrgId:  1363\n"
     ]
    }
   ],
   "source": [
    "orgId = int(orgs[orgs.Name == select_org.value].OrgId.iloc[0])\n",
    "print(\"Organization: \", select_org.value, \", OrgId: \", orgId)"
   ]
  },
  {
   "cell_type": "markdown",
   "metadata": {},
   "source": [
    "<b>4. List the IP addresses that need to be added by editing and running the cell below</b>"
   ]
  },
  {
   "cell_type": "code",
   "execution_count": 4,
   "metadata": {},
   "outputs": [
    {
     "name": "stdout",
     "output_type": "stream",
     "text": [
      "8 ip_addresses in total\n"
     ]
    }
   ],
   "source": [
    "#EDIT \n",
    "ip_addresses = [\n",
    "'72\\.5\\.230\\.(12[8-9]|13[0-9]|14[0-9]|15[0-9]|16[0-9]|17[0-9]|18[0-9]|19[0-9]|20[0-9]|21[0-9]|22[0-9]|23[0-9]|24[0-9]|25[0-5]|)',\n",
    "'52.24.4.148',\n",
    "'52.10.111.164',\n",
    "'52.8.26.69',\n",
    "'52.8.26.154',\n",
    "'52.11.101.123',\n",
    "'52.8.120.31',\n",
    "'52.9.195.173'\n",
    "]\n",
    "name = \"Rate Marketplace\"\n",
    "desc = \"\"\n",
    "\n",
    "#DO NOT EDIT\n",
    "print(str(len(ip_addresses)) + \" ip_addresses in total\")"
   ]
  },
  {
   "cell_type": "markdown",
   "metadata": {},
   "source": [
    "<b>5. Run the cell below to select an access type for the above IP addresses</b>"
   ]
  },
  {
   "cell_type": "code",
   "execution_count": 5,
   "metadata": {},
   "outputs": [
    {
     "data": {
      "application/vnd.jupyter.widget-view+json": {
       "model_id": "e6a15a03052b4ae5a88fed94fe32ec9c",
       "version_major": 2,
       "version_minor": 0
      },
      "text/plain": [
       "Combobox(value='', description='Select access type:', ensure_option=True, layout=Layout(height='30px', width='…"
      ]
     },
     "metadata": {},
     "output_type": "display_data"
    }
   ],
   "source": [
    "accesstypes = ins.accesstype_options()\n",
    "select_accesstype = ins.create_dropdown('Select access type:', list(accesstypes.Name))\n",
    "select_accesstype"
   ]
  },
  {
   "cell_type": "markdown",
   "metadata": {},
   "source": [
    "<b>6. Run the cell below to add the IP addresses and respective access type to the org</b>"
   ]
  },
  {
   "cell_type": "code",
   "execution_count": 8,
   "metadata": {},
   "outputs": [
    {
     "data": {
      "text/html": [
       "<div>\n",
       "<style scoped>\n",
       "    .dataframe tbody tr th:only-of-type {\n",
       "        vertical-align: middle;\n",
       "    }\n",
       "\n",
       "    .dataframe tbody tr th {\n",
       "        vertical-align: top;\n",
       "    }\n",
       "\n",
       "    .dataframe thead th {\n",
       "        text-align: right;\n",
       "    }\n",
       "</style>\n",
       "<table border=\"1\" class=\"dataframe\">\n",
       "  <thead>\n",
       "    <tr style=\"text-align: right;\">\n",
       "      <th></th>\n",
       "      <th>OrgId</th>\n",
       "      <th>IpAddress</th>\n",
       "      <th>Name</th>\n",
       "      <th>Description</th>\n",
       "      <th>AccessTypeId</th>\n",
       "      <th>Response</th>\n",
       "    </tr>\n",
       "  </thead>\n",
       "  <tbody>\n",
       "    <tr>\n",
       "      <th>0</th>\n",
       "      <td>1363</td>\n",
       "      <td>72\\.5\\.230\\.(12[8-9]|13[0-9]|14[0-9]|15[0-9]|1...</td>\n",
       "      <td>Rate Marketplace</td>\n",
       "      <td></td>\n",
       "      <td>4</td>\n",
       "      <td>Cannot add duplicate access type</td>\n",
       "    </tr>\n",
       "    <tr>\n",
       "      <th>1</th>\n",
       "      <td>1363</td>\n",
       "      <td>52.24.4.148</td>\n",
       "      <td>Rate Marketplace</td>\n",
       "      <td></td>\n",
       "      <td>4</td>\n",
       "      <td>Cannot add duplicate access type</td>\n",
       "    </tr>\n",
       "    <tr>\n",
       "      <th>2</th>\n",
       "      <td>1363</td>\n",
       "      <td>52.10.111.164</td>\n",
       "      <td>Rate Marketplace</td>\n",
       "      <td></td>\n",
       "      <td>4</td>\n",
       "      <td>Cannot add duplicate access type</td>\n",
       "    </tr>\n",
       "    <tr>\n",
       "      <th>3</th>\n",
       "      <td>1363</td>\n",
       "      <td>52.8.26.69</td>\n",
       "      <td>Rate Marketplace</td>\n",
       "      <td></td>\n",
       "      <td>4</td>\n",
       "      <td>Cannot add duplicate access type</td>\n",
       "    </tr>\n",
       "    <tr>\n",
       "      <th>4</th>\n",
       "      <td>1363</td>\n",
       "      <td>52.8.26.154</td>\n",
       "      <td>Rate Marketplace</td>\n",
       "      <td></td>\n",
       "      <td>4</td>\n",
       "      <td>Cannot add duplicate access type</td>\n",
       "    </tr>\n",
       "    <tr>\n",
       "      <th>5</th>\n",
       "      <td>1363</td>\n",
       "      <td>52.11.101.123</td>\n",
       "      <td>Rate Marketplace</td>\n",
       "      <td></td>\n",
       "      <td>4</td>\n",
       "      <td>Cannot add duplicate access type</td>\n",
       "    </tr>\n",
       "    <tr>\n",
       "      <th>6</th>\n",
       "      <td>1363</td>\n",
       "      <td>52.8.120.31</td>\n",
       "      <td>Rate Marketplace</td>\n",
       "      <td></td>\n",
       "      <td>4</td>\n",
       "      <td>Cannot add duplicate access type</td>\n",
       "    </tr>\n",
       "    <tr>\n",
       "      <th>7</th>\n",
       "      <td>1363</td>\n",
       "      <td>52.9.195.173</td>\n",
       "      <td>Rate Marketplace</td>\n",
       "      <td></td>\n",
       "      <td>4</td>\n",
       "      <td>Cannot add duplicate access type</td>\n",
       "    </tr>\n",
       "  </tbody>\n",
       "</table>\n",
       "</div>"
      ],
      "text/plain": [
       "  OrgId                                          IpAddress              Name  \\\n",
       "0  1363  72\\.5\\.230\\.(12[8-9]|13[0-9]|14[0-9]|15[0-9]|1...  Rate Marketplace   \n",
       "1  1363                                        52.24.4.148  Rate Marketplace   \n",
       "2  1363                                      52.10.111.164  Rate Marketplace   \n",
       "3  1363                                         52.8.26.69  Rate Marketplace   \n",
       "4  1363                                        52.8.26.154  Rate Marketplace   \n",
       "5  1363                                      52.11.101.123  Rate Marketplace   \n",
       "6  1363                                        52.8.120.31  Rate Marketplace   \n",
       "7  1363                                       52.9.195.173  Rate Marketplace   \n",
       "\n",
       "  Description AccessTypeId                          Response  \n",
       "0                        4  Cannot add duplicate access type  \n",
       "1                        4  Cannot add duplicate access type  \n",
       "2                        4  Cannot add duplicate access type  \n",
       "3                        4  Cannot add duplicate access type  \n",
       "4                        4  Cannot add duplicate access type  \n",
       "5                        4  Cannot add duplicate access type  \n",
       "6                        4  Cannot add duplicate access type  \n",
       "7                        4  Cannot add duplicate access type  "
      ]
     },
     "execution_count": 8,
     "metadata": {},
     "output_type": "execute_result"
    }
   ],
   "source": [
    "accessTypeId = int(accesstypes[accesstypes.Name == select_accesstype.value].ApiAccessTypeId.iloc[0])\n",
    "log = pd.DataFrame(columns = ['OrgId', 'IpAddress', 'Name', 'Description', 'AccessTypeId', 'Response'])\n",
    "\n",
    "for ip in ip_addresses :\n",
    "    message = ins.add_ip(orgId, ip, accessTypeId, name, desc)\n",
    "    log = log.append({'OrgId': orgId, \n",
    "                          'IpAddress': ip, \n",
    "                          'Name': name, \n",
    "                          'Description': desc, \n",
    "                          'AccessTypeId': accessTypeId, \n",
    "                          'Response': message}, ignore_index = True)\n",
    "log"
   ]
  },
  {
   "cell_type": "markdown",
   "metadata": {},
   "source": [
    "<b>Note: Cells 5-6 can be rerun to add an additional access type to your list of IP addresses </b> 😁"
   ]
  }
 ],
 "metadata": {
  "kernelspec": {
   "display_name": "Python 3",
   "language": "python",
   "name": "python3"
  },
  "language_info": {
   "codemirror_mode": {
    "name": "ipython",
    "version": 3
   },
   "file_extension": ".py",
   "mimetype": "text/x-python",
   "name": "python",
   "nbconvert_exporter": "python",
   "pygments_lexer": "ipython3",
   "version": "3.8.5"
  }
 },
 "nbformat": 4,
 "nbformat_minor": 5
}
